{
 "cells": [
  {
   "cell_type": "code",
   "execution_count": 1,
   "metadata": {},
   "outputs": [
    {
     "name": "stderr",
     "output_type": "stream",
     "text": [
      "/Users/mdeblaauw/anaconda3/lib/python3.6/site-packages/h5py/__init__.py:34: FutureWarning: Conversion of the second argument of issubdtype from `float` to `np.floating` is deprecated. In future, it will be treated as `np.float64 == np.dtype(float).type`.\n",
      "  from ._conv import register_converters as _register_converters\n"
     ]
    }
   ],
   "source": [
    "import numpy as np\n",
    "import tensorflow as tf\n",
    "from utils import *\n",
    "import scipy.misc"
   ]
  },
  {
   "cell_type": "markdown",
   "metadata": {},
   "source": [
    "# Load in image"
   ]
  },
  {
   "cell_type": "code",
   "execution_count": 7,
   "metadata": {
    "collapsed": true
   },
   "outputs": [],
   "source": [
    "content = get_img('../images/louvre.jpg')\n",
    "content_image = np.array([content])"
   ]
  },
  {
   "cell_type": "markdown",
   "metadata": {},
   "source": [
    "# Graph functions"
   ]
  },
  {
   "cell_type": "code",
   "execution_count": 8,
   "metadata": {
    "collapsed": true
   },
   "outputs": [],
   "source": [
    "WEIGHTS_INIT_STDEV = .1"
   ]
  },
  {
   "cell_type": "code",
   "execution_count": 9,
   "metadata": {
    "collapsed": true
   },
   "outputs": [],
   "source": [
    "def _conv_layer(net, num_filters, filter_size, strides, relu=True):\n",
    "    weights_init = _conv_init_vars(net, num_filters, filter_size)\n",
    "    strides_shape = [1, strides, strides, 1]\n",
    "    net = tf.nn.conv2d(net, weights_init, strides_shape, padding='SAME')\n",
    "    net = _instance_norm(net)\n",
    "    if relu:\n",
    "        net = tf.nn.relu(net)\n",
    "\n",
    "    return net"
   ]
  },
  {
   "cell_type": "code",
   "execution_count": 10,
   "metadata": {
    "collapsed": true
   },
   "outputs": [],
   "source": [
    "def _instance_norm(net, train=True):\n",
    "    batch, rows, cols, channels = [i.value for i in net.get_shape()]\n",
    "    var_shape = [channels]\n",
    "    mu, sigma_sq = tf.nn.moments(net, [1,2], keep_dims=True)\n",
    "    shift = tf.Variable(tf.zeros(var_shape))\n",
    "    scale = tf.Variable(tf.ones(var_shape))\n",
    "    epsilon = 1e-3\n",
    "    normalized = (net-mu)/(sigma_sq + epsilon)**(.5)\n",
    "    return scale * normalized + shift"
   ]
  },
  {
   "cell_type": "code",
   "execution_count": 11,
   "metadata": {
    "collapsed": true
   },
   "outputs": [],
   "source": [
    "def _conv_tranpose_layer(net, num_filters, filter_size, strides):\n",
    "    weights_init = _conv_init_vars(net, num_filters, filter_size, transpose=True)\n",
    "\n",
    "    batch_size, rows, cols, in_channels = [i.value for i in net.get_shape()]\n",
    "    new_rows, new_cols = int(rows * strides), int(cols * strides)\n",
    "    # new_shape = #tf.pack([tf.shape(net)[0], new_rows, new_cols, num_filters])\n",
    "\n",
    "    new_shape = [batch_size, new_rows, new_cols, num_filters]\n",
    "    tf_shape = tf.stack(new_shape)\n",
    "    strides_shape = [1,strides,strides,1]\n",
    "\n",
    "    net = tf.nn.conv2d_transpose(net, weights_init, tf_shape, strides_shape, padding='SAME')\n",
    "    net = _instance_norm(net)\n",
    "    return tf.nn.relu(net)"
   ]
  },
  {
   "cell_type": "code",
   "execution_count": 12,
   "metadata": {
    "collapsed": true
   },
   "outputs": [],
   "source": [
    "def _conv_init_vars(net, out_channels, filter_size, transpose=False):\n",
    "    _, rows, cols, in_channels = [i.value for i in net.get_shape()]\n",
    "    if not transpose:\n",
    "        weights_shape = [filter_size, filter_size, in_channels, out_channels]\n",
    "    else:\n",
    "        weights_shape = [filter_size, filter_size, out_channels, in_channels]\n",
    "\n",
    "    weights_init = tf.Variable(tf.truncated_normal(weights_shape, stddev=WEIGHTS_INIT_STDEV, seed=1), dtype=tf.float32)\n",
    "    return weights_init"
   ]
  },
  {
   "cell_type": "code",
   "execution_count": 13,
   "metadata": {
    "collapsed": true
   },
   "outputs": [],
   "source": [
    "def _residual_block(net, filter_size=3):\n",
    "    tmp = _conv_layer(net, 128, filter_size, 1)\n",
    "    return net + _conv_layer(tmp, 128, filter_size, 1, relu=False)"
   ]
  },
  {
   "cell_type": "code",
   "execution_count": 14,
   "metadata": {
    "collapsed": true
   },
   "outputs": [],
   "source": [
    "def image_maker(image):\n",
    "    conv1 = _conv_layer(image, 32, 9, 1)\n",
    "    conv2 = _conv_layer(conv1, 64, 3, 2)\n",
    "    conv3 = _conv_layer(conv2, 128, 3, 2)\n",
    "    resid1 = _residual_block(conv3, 3)\n",
    "    resid2 = _residual_block(resid1, 3)\n",
    "    resid3 = _residual_block(resid2, 3)\n",
    "    resid4 = _residual_block(resid3, 3)\n",
    "    resid5 = _residual_block(resid4, 3)\n",
    "    conv_t1 = _conv_tranpose_layer(resid5, 64, 3, 2)\n",
    "    conv_t2 = _conv_tranpose_layer(conv_t1, 32, 3, 2)\n",
    "    conv_t3 = _conv_layer(conv_t2, 3, 9, 1, relu=False)\n",
    "    preds = tf.nn.tanh(conv_t3) * 150 + 255./2\n",
    "    return preds"
   ]
  },
  {
   "cell_type": "markdown",
   "metadata": {},
   "source": [
    "# Generate image"
   ]
  },
  {
   "cell_type": "code",
   "execution_count": 35,
   "metadata": {},
   "outputs": [
    {
     "name": "stdout",
     "output_type": "stream",
     "text": [
      "INFO:tensorflow:Restoring parameters from ../saved_model/model1.ckpt\n"
     ]
    }
   ],
   "source": [
    "preds = content_image\n",
    "with tf.Graph().as_default(), tf.Session() as sess:\n",
    "    img_placeholder = tf.placeholder(tf.float32, shape = content_image.shape, name='img_placeholder')\n",
    "    \n",
    "    generated_image = image_maker(img_placeholder)\n",
    "    saver = tf.train.Saver()\n",
    "    saver.restore(sess, '../saved_model/model1.ckpt')\n",
    "    \n",
    "    preds = sess.run(generated_image, feed_dict = {img_placeholder: content_image})\n",
    "    \n",
    "    preds_reshape = np.reshape(preds, (preds.shape[1], preds.shape[2], preds.shape[3]))\n",
    "    save_img('../test2.jpg', preds_reshape)"
   ]
  }
 ],
 "metadata": {
  "kernelspec": {
   "display_name": "Python [conda env:anaconda3]",
   "language": "python",
   "name": "conda-env-anaconda3-py"
  },
  "language_info": {
   "codemirror_mode": {
    "name": "ipython",
    "version": 3
   },
   "file_extension": ".py",
   "mimetype": "text/x-python",
   "name": "python",
   "nbconvert_exporter": "python",
   "pygments_lexer": "ipython3",
   "version": "3.6.6"
  }
 },
 "nbformat": 4,
 "nbformat_minor": 2
}
