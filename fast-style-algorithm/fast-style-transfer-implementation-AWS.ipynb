{
 "cells": [
  {
   "cell_type": "code",
   "execution_count": 16,
   "metadata": {
    "collapsed": true
   },
   "outputs": [],
   "source": [
    "import tensorflow as tf\n",
    "import numpy as np\n",
    "import functools\n",
    "import vgg19\n",
    "from vgg19 import *\n",
    "from utils import *"
   ]
  },
  {
   "cell_type": "code",
   "execution_count": 2,
   "metadata": {
    "collapsed": true
   },
   "outputs": [],
   "source": [
    "import scipy.misc, numpy as np, os, sys"
   ]
  },
  {
   "cell_type": "markdown",
   "metadata": {},
   "source": [
    "# Load data"
   ]
  },
  {
   "cell_type": "code",
   "execution_count": null,
   "metadata": {
    "collapsed": true
   },
   "outputs": [],
   "source": [
    "import boto3\n",
    "import botocore\n",
    "from io import BytesIO\n",
    "from PIL import Image"
   ]
  },
  {
   "cell_type": "code",
   "execution_count": null,
   "metadata": {
    "collapsed": true
   },
   "outputs": [],
   "source": [
    "BUCKET_NAME = 'fast-style-transfer'"
   ]
  },
  {
   "cell_type": "code",
   "execution_count": null,
   "metadata": {
    "collapsed": true
   },
   "outputs": [],
   "source": [
    "s3 = boto3.resource('s3')\n",
    "my_bucket = s3.Bucket(BUCKET_NAME)"
   ]
  },
  {
   "cell_type": "markdown",
   "metadata": {},
   "source": [
    "### Get image"
   ]
  },
  {
   "cell_type": "code",
   "execution_count": null,
   "metadata": {
    "collapsed": true
   },
   "outputs": [],
   "source": [
    "def get_train_image(image_path):\n",
    "    with BytesIO() as files:\n",
    "    #path = \"train2014-images/COCO_train2014_000000000049.jpg\"\n",
    "    s3.Bucket(BUCKET_NAME).download_fileobj(image_path, files)\n",
    "    image = np.asarray(Image.open(files))\n",
    "    return(image)"
   ]
  },
  {
   "cell_type": "markdown",
   "metadata": {},
   "source": [
    "### Get image keys"
   ]
  },
  {
   "cell_type": "code",
   "execution_count": null,
   "metadata": {
    "collapsed": true
   },
   "outputs": [],
   "source": [
    "def get_content_train_images(prefix):\n",
    "    #prefix = 'train2014-images/'\n",
    "    image_names = []\n",
    "    for i in my_bucket.objects.filter(Prefix=prefix):\n",
    "        image_names.append(i.key)\n",
    "    return(image_names)"
   ]
  },
  {
   "cell_type": "code",
   "execution_count": null,
   "metadata": {
    "collapsed": true
   },
   "outputs": [],
   "source": [
    "style_target = get_train_image(\"train2014-images/COCO_train2014_000000000049.jpg\")\n",
    "content_targets = get_content_train_images('train2014-images/')"
   ]
  },
  {
   "cell_type": "markdown",
   "metadata": {},
   "source": [
    "# Graph functions"
   ]
  },
  {
   "cell_type": "code",
   "execution_count": 7,
   "metadata": {
    "collapsed": true
   },
   "outputs": [],
   "source": [
    "WEIGHTS_INIT_STDEV = .1"
   ]
  },
  {
   "cell_type": "markdown",
   "metadata": {},
   "source": [
    "### Convolutional layer with instance normalisation"
   ]
  },
  {
   "cell_type": "code",
   "execution_count": 8,
   "metadata": {
    "collapsed": true
   },
   "outputs": [],
   "source": [
    "def _conv_layer(net, num_filters, filter_size, strides, relu=True):\n",
    "    weights_init = _conv_init_vars(net, num_filters, filter_size)\n",
    "    strides_shape = [1, strides, strides, 1]\n",
    "    net = tf.nn.conv2d(net, weights_init, strides_shape, padding='SAME')\n",
    "    net = _instance_norm(net)\n",
    "    if relu:\n",
    "        net = tf.nn.relu(net)\n",
    "\n",
    "    return net"
   ]
  },
  {
   "cell_type": "code",
   "execution_count": 9,
   "metadata": {
    "collapsed": true
   },
   "outputs": [],
   "source": [
    "def _instance_norm(net, train=True):\n",
    "    batch, rows, cols, channels = [i.value for i in net.get_shape()]\n",
    "    var_shape = [channels]\n",
    "    mu, sigma_sq = tf.nn.moments(net, [1,2], keep_dims=True)\n",
    "    shift = tf.Variable(tf.zeros(var_shape))\n",
    "    scale = tf.Variable(tf.ones(var_shape))\n",
    "    epsilon = 1e-3\n",
    "    normalized = (net-mu)/(sigma_sq + epsilon)**(.5)\n",
    "    return scale * normalized + shift"
   ]
  },
  {
   "cell_type": "markdown",
   "metadata": {},
   "source": [
    "### Transpose convolutional layer with instance normalisation"
   ]
  },
  {
   "cell_type": "code",
   "execution_count": 10,
   "metadata": {
    "collapsed": true
   },
   "outputs": [],
   "source": [
    "def _conv_tranpose_layer(net, num_filters, filter_size, strides):\n",
    "    weights_init = _conv_init_vars(net, num_filters, filter_size, transpose=True)\n",
    "\n",
    "    batch_size, rows, cols, in_channels = [i.value for i in net.get_shape()]\n",
    "    new_rows, new_cols = int(rows * strides), int(cols * strides)\n",
    "    # new_shape = #tf.pack([tf.shape(net)[0], new_rows, new_cols, num_filters])\n",
    "\n",
    "    new_shape = [batch_size, new_rows, new_cols, num_filters]\n",
    "    tf_shape = tf.stack(new_shape)\n",
    "    strides_shape = [1,strides,strides,1]\n",
    "\n",
    "    net = tf.nn.conv2d_transpose(net, weights_init, tf_shape, strides_shape, padding='SAME')\n",
    "    net = _instance_norm(net)\n",
    "    return tf.nn.relu(net)"
   ]
  },
  {
   "cell_type": "markdown",
   "metadata": {},
   "source": [
    "### Weight initialization"
   ]
  },
  {
   "cell_type": "code",
   "execution_count": 11,
   "metadata": {
    "collapsed": true
   },
   "outputs": [],
   "source": [
    "def _conv_init_vars(net, out_channels, filter_size, transpose=False):\n",
    "    _, rows, cols, in_channels = [i.value for i in net.get_shape()]\n",
    "    if not transpose:\n",
    "        weights_shape = [filter_size, filter_size, in_channels, out_channels]\n",
    "    else:\n",
    "        weights_shape = [filter_size, filter_size, out_channels, in_channels]\n",
    "\n",
    "    weights_init = tf.Variable(tf.truncated_normal(weights_shape, stddev=WEIGHTS_INIT_STDEV, seed=1), dtype=tf.float32)\n",
    "    return weights_init"
   ]
  },
  {
   "cell_type": "markdown",
   "metadata": {},
   "source": [
    "### Residual block"
   ]
  },
  {
   "cell_type": "code",
   "execution_count": 12,
   "metadata": {
    "collapsed": true
   },
   "outputs": [],
   "source": [
    "def _residual_block(net, filter_size=3):\n",
    "    tmp = _conv_layer(net, 128, filter_size, 1)\n",
    "    return net + _conv_layer(tmp, 128, filter_size, 1, relu=False)"
   ]
  },
  {
   "cell_type": "markdown",
   "metadata": {},
   "source": [
    "### Graph construction"
   ]
  },
  {
   "cell_type": "code",
   "execution_count": 13,
   "metadata": {
    "collapsed": true
   },
   "outputs": [],
   "source": [
    "def image_maker(image):\n",
    "    conv1 = _conv_layer(image, 32, 9, 1)\n",
    "    conv2 = _conv_layer(conv1, 64, 3, 2)\n",
    "    conv3 = _conv_layer(conv2, 128, 3, 2)\n",
    "    resid1 = _residual_block(conv3, 3)\n",
    "    resid2 = _residual_block(resid1, 3)\n",
    "    resid3 = _residual_block(resid2, 3)\n",
    "    resid4 = _residual_block(resid3, 3)\n",
    "    resid5 = _residual_block(resid4, 3)\n",
    "    conv_t1 = _conv_tranpose_layer(resid5, 64, 3, 2)\n",
    "    conv_t2 = _conv_tranpose_layer(conv_t1, 32, 3, 2)\n",
    "    conv_t3 = _conv_layer(conv_t2, 3, 9, 1, relu=False)\n",
    "    preds = tf.nn.tanh(conv_t3) * 150 + 255./2\n",
    "    return preds"
   ]
  },
  {
   "cell_type": "markdown",
   "metadata": {},
   "source": [
    "## Optimize"
   ]
  },
  {
   "cell_type": "markdown",
   "metadata": {},
   "source": [
    "### Settings"
   ]
  },
  {
   "cell_type": "code",
   "execution_count": 14,
   "metadata": {
    "collapsed": true
   },
   "outputs": [],
   "source": [
    "vgg19_path = '../vgg19/imagenet-vgg-verydeep-19.mat'\n",
    "epochs = 2\n",
    "batch_size = 4\n",
    "content_weight = 7.5*2\n",
    "style_weight = 1e2\n",
    "tv_weight = 2e2\n",
    "learning_rate = 1e-3\n",
    "STYLE_LAYERS = ('relu1_1', 'relu2_1', 'relu3_1', 'relu4_1', 'relu5_1')\n",
    "CONTENT_LAYER = 'relu4_2'"
   ]
  },
  {
   "cell_type": "markdown",
   "metadata": {},
   "source": [
    "### Compute style features"
   ]
  },
  {
   "cell_type": "code",
   "execution_count": 17,
   "metadata": {
    "collapsed": true
   },
   "outputs": [],
   "source": [
    "style_features = {}\n",
    "\n",
    "with tf.Graph().as_default(), tf.Session() as sess:\n",
    "    style_target_reshape = np.array([style_target])\n",
    "    style_image = tf.placeholder(tf.float32, shape = style_target_reshape.shape, name = 'style_image')\n",
    "    style_image_proc = vgg19.preprocess(style_image)\n",
    "    network = vgg19.net(vgg19_path, style_image_proc)\n",
    "    for layer in STYLE_LAYERS:\n",
    "        features = sess.run(network[layer], feed_dict={style_image: style_target_reshape})\n",
    "        features = np.reshape(features, (-1, features.shape[3]))\n",
    "        gram_matrix = np.matmul(features.T, features) / features.size\n",
    "        style_features[layer] = gram_matrix"
   ]
  },
  {
   "cell_type": "markdown",
   "metadata": {},
   "source": [
    "### Compute content loss"
   ]
  },
  {
   "cell_type": "code",
   "execution_count": 27,
   "metadata": {},
   "outputs": [
    {
     "name": "stdout",
     "output_type": "stream",
     "text": [
      "i: 0\n",
      "loss: 83601610000000.0\n",
      "i: 1\n",
      "loss: 40560260000000.0\n",
      "epoch: 0\n",
      "i: 0\n",
      "loss: 30803210000000.0\n",
      "i: 1\n",
      "loss: 25640850000000.0\n",
      "epoch: 1\n"
     ]
    }
   ],
   "source": [
    "batch_shape = (batch_size, 256, 256 ,3)\n",
    "\n",
    "with tf.Graph().as_default(), tf.Session() as sess:\n",
    "    X_content = tf.placeholder(tf.float32, shape=batch_shape, name='X_content')\n",
    "    X_proc = vgg19.preprocess(X_content)\n",
    "    \n",
    "    content_features = {}\n",
    "    content_net = vgg19.net(vgg19_path, X_proc)\n",
    "    content_features[CONTENT_LAYER] = content_net[CONTENT_LAYER]\n",
    "    \n",
    "    generated_image = image_maker(X_content/255.0)\n",
    "    generated_image_proc = vgg19.preprocess(generated_image)\n",
    "    \n",
    "    generated_image_net = vgg19.net(vgg19_path, generated_image_proc)\n",
    "    content_size = tf.size(content_features[CONTENT_LAYER], out_type=tf.float32)\n",
    "    content_loss = content_weight * (tf.nn.l2_loss(generated_image_net[CONTENT_LAYER] - content_features[CONTENT_LAYER])) / content_size\n",
    "    \n",
    "    #Style loss\n",
    "    style_losses = []\n",
    "    for style_layer in STYLE_LAYERS:\n",
    "        layer = generated_image_net[style_layer]\n",
    "        layer_shape = layer.get_shape().as_list()\n",
    "        size = layer_shape[1] * layer_shape[2] * layer_shape[3]\n",
    "        feats = tf.reshape(layer, (layer_shape[0], layer_shape[1] * layer_shape[2], layer_shape[3]))\n",
    "        feats_T = tf.transpose(feats, perm=[0,2,1])\n",
    "        grams = tf.matmul(feats_T, feats) / size\n",
    "        style_gram = style_features[style_layer]\n",
    "        style_losses.append(2 * tf.nn.l2_loss(grams - style_gram))\n",
    "        \n",
    "    style_loss = style_weight * functools.reduce(tf.add, style_losses) / batch_size\n",
    "    \n",
    "    #total variation denoising\n",
    "    tv_size = tf.size(generated_image, out_type=tf.float32) - 1\n",
    "    y_tv = tf.nn.l2_loss(generated_image[:,1:,:,:] - generated_image[:,:-1,:,:])\n",
    "    x_tv = tf.nn.l2_loss(generated_image[:,:,1:,:] - generated_image[:,:,:-1,:])\n",
    "    tv_loss = tv_weight*2*(x_tv/tv_size + y_tv/tv_size)\n",
    "    \n",
    "    loss = content_loss + style_loss + tv_loss\n",
    "    \n",
    "    #optimize\n",
    "    optimize = tf.train.AdamOptimizer(learning_rate).minimize(loss)\n",
    "    sess.run(tf.global_variables_initializer())\n",
    "    \n",
    "    for epoch in range(epochs):\n",
    "        num_examples = len(content_targets)\n",
    "        batch_iterations = int(num_examples/batch_size)\n",
    "        for i in range(2):\n",
    "            print('i:',i)\n",
    "            curr = i * batch_size\n",
    "            step = curr + batch_size\n",
    "            X_batch = np.zeros(batch_shape, dtype=np.float32)\n",
    "            for j, img_p in enumerate(content_targets[curr:step]):\n",
    "                X_batch[j] = get_train_image(img_p).astype(np.float32)        \n",
    "            #optimize.run(feed_dict={X_content: X_batch})\n",
    "            _, loss_value = sess.run([optimize, loss], feed_dict={X_content: X_batch})\n",
    "            print('loss:', loss_value)\n",
    "        print('epoch:', epoch)\n",
    "        \n",
    "    saver = tf.train.Saver()\n",
    "    res = saver.save(sess, '../saved_model/model1.ckpt')"
   ]
  },
  {
   "cell_type": "code",
   "execution_count": 22,
   "metadata": {
    "collapsed": true
   },
   "outputs": [],
   "source": [
    "a = np.array([[1, 2], [3, 4]])"
   ]
  },
  {
   "cell_type": "code",
   "execution_count": 23,
   "metadata": {},
   "outputs": [
    {
     "data": {
      "text/plain": [
       "array([[1, 2],\n",
       "       [3, 4]])"
      ]
     },
     "execution_count": 23,
     "metadata": {},
     "output_type": "execute_result"
    }
   ],
   "source": [
    "a"
   ]
  },
  {
   "cell_type": "code",
   "execution_count": 24,
   "metadata": {
    "collapsed": true
   },
   "outputs": [],
   "source": [
    "f = (4,) + a"
   ]
  },
  {
   "cell_type": "code",
   "execution_count": 25,
   "metadata": {},
   "outputs": [
    {
     "data": {
      "text/plain": [
       "array([[5, 6],\n",
       "       [7, 8]])"
      ]
     },
     "execution_count": 25,
     "metadata": {},
     "output_type": "execute_result"
    }
   ],
   "source": [
    "f"
   ]
  },
  {
   "cell_type": "code",
   "execution_count": null,
   "metadata": {
    "collapsed": true
   },
   "outputs": [],
   "source": []
  }
 ],
 "metadata": {
  "kernelspec": {
   "display_name": "Python [conda env:anaconda3]",
   "language": "python",
   "name": "conda-env-anaconda3-py"
  },
  "language_info": {
   "codemirror_mode": {
    "name": "ipython",
    "version": 3
   },
   "file_extension": ".py",
   "mimetype": "text/x-python",
   "name": "python",
   "nbconvert_exporter": "python",
   "pygments_lexer": "ipython3",
   "version": "3.6.6"
  }
 },
 "nbformat": 4,
 "nbformat_minor": 2
}
