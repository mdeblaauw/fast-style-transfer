{
 "cells": [
  {
   "cell_type": "markdown",
   "metadata": {},
   "source": [
    "# Settings"
   ]
  },
  {
   "cell_type": "code",
   "execution_count": 50,
   "metadata": {},
   "outputs": [],
   "source": [
    "import os\n",
    "import sys\n",
    "import time\n",
    "import numpy as np\n",
    "\n",
    "import torch\n",
    "from torch.autograd import Variable\n",
    "from torch.optim import Adam\n",
    "from torch.utils.data import DataLoader\n",
    "from torchvision import datasets\n",
    "from torchvision import transforms\n",
    "\n",
    "from PIL import Image, ImageDraw"
   ]
  },
  {
   "cell_type": "code",
   "execution_count": 6,
   "metadata": {},
   "outputs": [],
   "source": [
    "import utils\n",
    "from vgg16 import Vgg16"
   ]
  },
  {
   "cell_type": "markdown",
   "metadata": {},
   "source": [
    "# Hyperparameters"
   ]
  },
  {
   "cell_type": "code",
   "execution_count": 32,
   "metadata": {},
   "outputs": [],
   "source": [
    "list_content_weight = [1000,750,500,250,100,75,50,25,10,7.5, 5, 2.5,1]"
   ]
  },
  {
   "cell_type": "code",
   "execution_count": 33,
   "metadata": {},
   "outputs": [],
   "source": [
    "iters = 1000\n",
    "content_image_path = '../../test-images/cat.jpg'\n",
    "style_image_path = '../../test-images/the_wave.jpg'\n",
    "style_size = 512\n",
    "content_size = 512\n",
    "output_image_path = '../../test-images/'\n",
    "vgg_model_dir = 'models/'\n",
    "cuda = 1\n",
    "style_weight = 5.0\n",
    "content_weight = 1000.0\n",
    "learning_rate = 1e1\n",
    "log_interval = 50"
   ]
  },
  {
   "cell_type": "markdown",
   "metadata": {},
   "source": [
    "# Optimizer"
   ]
  },
  {
   "cell_type": "markdown",
   "metadata": {},
   "source": [
    "## Make gif"
   ]
  },
  {
   "cell_type": "code",
   "execution_count": 48,
   "metadata": {},
   "outputs": [],
   "source": [
    "def tensor_to_numpy(tensor, cuda=False):\n",
    "    if cuda:\n",
    "        img = tensor.clone().cpu().clamp(0, 255).numpy()\n",
    "    else:\n",
    "        img = tensor.clone().clamp(0, 255).numpy()\n",
    "    img = img.transpose(1, 2, 0).astype('uint8')\n",
    "    img = Image.fromarray(img)\n",
    "    return(img)\n",
    "    #img.save(filename)"
   ]
  },
  {
   "cell_type": "code",
   "execution_count": 51,
   "metadata": {},
   "outputs": [],
   "source": [
    "pictures = []\n",
    "\n",
    "content_image = utils.tensor_load_rgbimage(content_image_path, size=content_size, keep_asp=True)\n",
    "content_image = content_image.unsqueeze(0)\n",
    "content_image = Variable(utils.preprocess_batch(content_image), requires_grad=False)\n",
    "utils.subtract_imagenet_mean_batch(content_image)\n",
    "style_image = utils.tensor_load_rgbimage(style_image_path, size=style_size)\n",
    "style_image = style_image.unsqueeze(0)\n",
    "style_image = Variable(utils.preprocess_batch(style_image), requires_grad=False)\n",
    "utils.subtract_imagenet_mean_batch(style_image)\n",
    "\n",
    "vgg = Vgg16()\n",
    "utils.init_vgg16(vgg_model_dir)\n",
    "vgg.load_state_dict(torch.load(os.path.join(vgg_model_dir, \"vgg16.weight\")))\n",
    "\n",
    "if cuda:\n",
    "    content_image = content_image.cuda()\n",
    "    style_image = style_image.cuda()\n",
    "    vgg.cuda()\n",
    "\n",
    "for i, content_weight in enumerate(list_content_weight):\n",
    "    features_content = vgg(content_image)\n",
    "    f_xc_c = Variable(features_content[1].data, requires_grad=False)\n",
    "    features_style = vgg(style_image)\n",
    "    gram_style = [utils.gram_matrix(y) for y in features_style]\n",
    "    # init optimizer\n",
    "    output = Variable(content_image.data, requires_grad=True)\n",
    "    optimizer = Adam([output], lr=learning_rate)\n",
    "    mse_loss = torch.nn.MSELoss()\n",
    "\n",
    "    #modify the feature map using gain\n",
    "    f_xs_s = Variable(features_content[1].data, requires_grad=False)\n",
    "    g_min = 0.7\n",
    "    g_max = 5\n",
    "    gain = f_xs_s / (f_xc_c + 10e-4)\n",
    "    gain_clamped = torch.clamp(gain, min=g_min, max=g_max)\n",
    "    f_modified = f_xc_c * gain\n",
    "\n",
    "    # optimizing the images\n",
    "    for e in range(iters):\n",
    "        utils.add_imagenet_mean_batch(output)\n",
    "        output.data.clamp_(0, 255)\t\n",
    "        utils.subtract_imagenet_mean_batch(output)\n",
    "\n",
    "        optimizer.zero_grad()\n",
    "        features_y = vgg(output)\n",
    "        content_loss = content_weight * mse_loss(features_y[1], f_modified)\n",
    "\n",
    "        style_loss = 0.\n",
    "        for m in range(len(features_y)):\n",
    "            gram_y = utils.gram_matrix(features_y[m])\n",
    "            gram_s = Variable(gram_style[m].data, requires_grad=False)\n",
    "            style_loss += style_weight * mse_loss(gram_y, gram_s)\n",
    "\n",
    "        total_loss = content_loss + style_loss\n",
    "\n",
    "        if (e + 1) % log_interval == 0:\n",
    "            #print(total_loss.data.cpu().numpy()[0])\n",
    "            print('iterations:',e)\n",
    "            print('loss:',total_loss.data.cpu().numpy())\n",
    "        total_loss.backward()\n",
    "    \n",
    "        optimizer.step()\n",
    "    # save the image\n",
    "    pictures.append(tensor_to_numpy(output.data[0], cuda))\n",
    "    utils.tensor_save_bgrimage(output.data[0], output_image_path + 'output_' + str(i) + '.jpg', cuda)"
   ]
  },
  {
   "cell_type": "code",
   "execution_count": 55,
   "metadata": {},
   "outputs": [],
   "source": [
    "pictures[0].save('cat.gif', format='GIF', append_images=pictures[1:], save_all=True, duration=100, loop=0)"
   ]
  },
  {
   "cell_type": "markdown",
   "metadata": {},
   "source": [
    "## Single optimizer"
   ]
  },
  {
   "cell_type": "code",
   "execution_count": 19,
   "metadata": {},
   "outputs": [
    {
     "name": "stdout",
     "output_type": "stream",
     "text": [
      "iterations: 49\n",
      "loss: 1356320.8\n",
      "iterations: 99\n",
      "loss: 1014319.3\n",
      "iterations: 149\n",
      "loss: 936335.75\n",
      "iterations: 199\n",
      "loss: 853631.2\n",
      "iterations: 249\n",
      "loss: 918182.9\n",
      "iterations: 299\n",
      "loss: 1024799.9\n",
      "iterations: 349\n",
      "loss: 1222416.2\n",
      "iterations: 399\n",
      "loss: 854556.9\n",
      "iterations: 449\n",
      "loss: 1034787.8\n",
      "iterations: 499\n",
      "loss: 1265034.2\n",
      "iterations: 549\n",
      "loss: 1129760.5\n",
      "iterations: 599\n",
      "loss: 1504305.2\n",
      "iterations: 649\n",
      "loss: 807273.25\n",
      "iterations: 699\n",
      "loss: 917512.1\n",
      "iterations: 749\n",
      "loss: 1601480.0\n",
      "iterations: 799\n",
      "loss: 804395.25\n",
      "iterations: 849\n",
      "loss: 975821.9\n",
      "iterations: 899\n",
      "loss: 869358.06\n",
      "iterations: 949\n",
      "loss: 942463.5\n",
      "iterations: 999\n",
      "loss: 969251.9\n"
     ]
    }
   ],
   "source": [
    "content_image = utils.tensor_load_rgbimage(content_image_path, size=content_size, keep_asp=True)\n",
    "content_image = content_image.unsqueeze(0)\n",
    "content_image = Variable(utils.preprocess_batch(content_image), requires_grad=False)\n",
    "utils.subtract_imagenet_mean_batch(content_image)\n",
    "style_image = utils.tensor_load_rgbimage(style_image_path, size=style_size)\n",
    "style_image = style_image.unsqueeze(0)\n",
    "style_image = Variable(utils.preprocess_batch(style_image), requires_grad=False)\n",
    "utils.subtract_imagenet_mean_batch(style_image)\n",
    "\n",
    "vgg = Vgg16()\n",
    "utils.init_vgg16(vgg_model_dir)\n",
    "vgg.load_state_dict(torch.load(os.path.join(vgg_model_dir, \"vgg16.weight\")))\n",
    "\n",
    "if cuda:\n",
    "    content_image = content_image.cuda()\n",
    "    style_image = style_image.cuda()\n",
    "    vgg.cuda()\n",
    "features_content = vgg(content_image)\n",
    "f_xc_c = Variable(features_content[1].data, requires_grad=False)\n",
    "features_style = vgg(style_image)\n",
    "gram_style = [utils.gram_matrix(y) for y in features_style]\n",
    "# init optimizer\n",
    "output = Variable(content_image.data, requires_grad=True)\n",
    "optimizer = Adam([output], lr=learning_rate)\n",
    "mse_loss = torch.nn.MSELoss()\n",
    "\n",
    "#modify the feature map using gain\n",
    "f_xs_s = Variable(features_content[1].data, requires_grad=False)\n",
    "g_min = 0.7\n",
    "g_max = 5\n",
    "gain = f_xs_s / (f_xc_c + 10e-4)\n",
    "gain_clamped = torch.clamp(gain, min=g_min, max=g_max)\n",
    "f_modified = f_xc_c * gain\n",
    "\n",
    "# optimizing the images\n",
    "for e in range(iters):\n",
    "    utils.add_imagenet_mean_batch(output)\n",
    "    output.data.clamp_(0, 255)\t\n",
    "    utils.subtract_imagenet_mean_batch(output)\n",
    "\n",
    "    optimizer.zero_grad()\n",
    "    features_y = vgg(output)\n",
    "    content_loss = content_weight * mse_loss(features_y[1], f_modified)\n",
    "\n",
    "    style_loss = 0.\n",
    "    for m in range(len(features_y)):\n",
    "        gram_y = utils.gram_matrix(features_y[m])\n",
    "        gram_s = Variable(gram_style[m].data, requires_grad=False)\n",
    "        style_loss += style_weight * mse_loss(gram_y, gram_s)\n",
    "\n",
    "    total_loss = content_loss + style_loss\n",
    "\n",
    "    if (e + 1) % log_interval == 0:\n",
    "        #print(total_loss.data.cpu().numpy()[0])\n",
    "        print('iterations:',e)\n",
    "        print('loss:',total_loss.data.cpu().numpy())\n",
    "    total_loss.backward()\n",
    "    \n",
    "    optimizer.step()\n",
    "# save the image\t\n",
    "utils.tensor_save_bgrimage(output.data[0], output_image_path, cuda)"
   ]
  },
  {
   "cell_type": "code",
   "execution_count": null,
   "metadata": {},
   "outputs": [],
   "source": []
  },
  {
   "cell_type": "code",
   "execution_count": null,
   "metadata": {},
   "outputs": [],
   "source": []
  }
 ],
 "metadata": {
  "kernelspec": {
   "display_name": "Python 3",
   "language": "python",
   "name": "python3"
  },
  "language_info": {
   "codemirror_mode": {
    "name": "ipython",
    "version": 3
   },
   "file_extension": ".py",
   "mimetype": "text/x-python",
   "name": "python",
   "nbconvert_exporter": "python",
   "pygments_lexer": "ipython3",
   "version": "3.6.7"
  }
 },
 "nbformat": 4,
 "nbformat_minor": 2
}
